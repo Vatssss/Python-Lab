{
 "cells": [
  {
   "cell_type": "code",
   "execution_count": 6,
   "id": "b18c44aa-ab0f-404f-b17a-207492e6e3db",
   "metadata": {},
   "outputs": [
    {
     "name": "stdout",
     "output_type": "stream",
     "text": [
      "Order from Catalog:\n",
      "{1001: {'name': 'T-Shirt', 'price': 599, 'quantity': 10}, 1002: {'name': 'Hoodie', 'price': 1299, 'quantity': 5}, 1003: {'name': 'Jeans', 'price': 1099, 'quantity': 20}, 1004: {'name': 'Cap', 'price': 149, 'quantity': 6}}\n",
      "\n",
      "Menu:\n",
      "1. Add product to cart\n",
      "2. Remove product from cart\n",
      "3. View cart\n",
      "4. Checkout (calculate total cost)\n",
      "5. Exit\n"
     ]
    },
    {
     "name": "stdin",
     "output_type": "stream",
     "text": [
      "Enter your choice:  1\n",
      "Enter product ID:  1003\n",
      "Enter quantity:  2\n"
     ]
    },
    {
     "name": "stdout",
     "output_type": "stream",
     "text": [
      "Product added to cart successfully.\n",
      "\n",
      "Menu:\n",
      "1. Add product to cart\n",
      "2. Remove product from cart\n",
      "3. View cart\n",
      "4. Checkout (calculate total cost)\n",
      "5. Exit\n"
     ]
    },
    {
     "name": "stdin",
     "output_type": "stream",
     "text": [
      "Enter your choice:  1\n",
      "Enter product ID:  1001\n",
      "Enter quantity:  1\n"
     ]
    },
    {
     "name": "stdout",
     "output_type": "stream",
     "text": [
      "Product added to cart successfully.\n",
      "\n",
      "Menu:\n",
      "1. Add product to cart\n",
      "2. Remove product from cart\n",
      "3. View cart\n",
      "4. Checkout (calculate total cost)\n",
      "5. Exit\n"
     ]
    },
    {
     "name": "stdin",
     "output_type": "stream",
     "text": [
      "Enter your choice:  1\n",
      "Enter product ID:  1002\n",
      "Enter quantity:  1\n"
     ]
    },
    {
     "name": "stdout",
     "output_type": "stream",
     "text": [
      "Product added to cart successfully.\n",
      "\n",
      "Menu:\n",
      "1. Add product to cart\n",
      "2. Remove product from cart\n",
      "3. View cart\n",
      "4. Checkout (calculate total cost)\n",
      "5. Exit\n"
     ]
    },
    {
     "name": "stdin",
     "output_type": "stream",
     "text": [
      "Enter your choice:  3\n"
     ]
    },
    {
     "name": "stdout",
     "output_type": "stream",
     "text": [
      "Items in Cart:\n",
      "- Jeans (x2) - Rs.1099\n",
      "- T-Shirt (x1) - Rs.599\n",
      "- Hoodie (x1) - Rs.1299\n",
      "\n",
      "Menu:\n",
      "1. Add product to cart\n",
      "2. Remove product from cart\n",
      "3. View cart\n",
      "4. Checkout (calculate total cost)\n",
      "5. Exit\n"
     ]
    },
    {
     "name": "stdin",
     "output_type": "stream",
     "text": [
      "Enter your choice:  1\n",
      "Enter product ID:  1004\n",
      "Enter quantity:  3\n"
     ]
    },
    {
     "name": "stdout",
     "output_type": "stream",
     "text": [
      "Product added to cart successfully.\n",
      "\n",
      "Menu:\n",
      "1. Add product to cart\n",
      "2. Remove product from cart\n",
      "3. View cart\n",
      "4. Checkout (calculate total cost)\n",
      "5. Exit\n"
     ]
    },
    {
     "name": "stdin",
     "output_type": "stream",
     "text": [
      "Enter your choice:  3\n"
     ]
    },
    {
     "name": "stdout",
     "output_type": "stream",
     "text": [
      "Items in Cart:\n",
      "- Jeans (x2) - Rs.1099\n",
      "- T-Shirt (x1) - Rs.599\n",
      "- Hoodie (x1) - Rs.1299\n",
      "- Cap (x3) - Rs.149\n",
      "\n",
      "Menu:\n",
      "1. Add product to cart\n",
      "2. Remove product from cart\n",
      "3. View cart\n",
      "4. Checkout (calculate total cost)\n",
      "5. Exit\n"
     ]
    },
    {
     "name": "stdin",
     "output_type": "stream",
     "text": [
      "Enter your choice:  2\n",
      "Enter product ID:  1004\n",
      "Enter quantity:  2\n"
     ]
    },
    {
     "name": "stdout",
     "output_type": "stream",
     "text": [
      "Product removed from cart successfully.\n",
      "\n",
      "Menu:\n",
      "1. Add product to cart\n",
      "2. Remove product from cart\n",
      "3. View cart\n",
      "4. Checkout (calculate total cost)\n",
      "5. Exit\n"
     ]
    },
    {
     "name": "stdin",
     "output_type": "stream",
     "text": [
      "Enter your choice:  3\n"
     ]
    },
    {
     "name": "stdout",
     "output_type": "stream",
     "text": [
      "Items in Cart:\n",
      "- Jeans (x2) - Rs.1099\n",
      "- T-Shirt (x1) - Rs.599\n",
      "- Hoodie (x1) - Rs.1299\n",
      "- Cap (x1) - Rs.149\n",
      "\n",
      "Menu:\n",
      "1. Add product to cart\n",
      "2. Remove product from cart\n",
      "3. View cart\n",
      "4. Checkout (calculate total cost)\n",
      "5. Exit\n"
     ]
    },
    {
     "name": "stdin",
     "output_type": "stream",
     "text": [
      "Enter your choice:  4\n"
     ]
    },
    {
     "name": "stdout",
     "output_type": "stream",
     "text": [
      "Total Cost: Rs.4245\n",
      "\n",
      "Menu:\n",
      "1. Add product to cart\n",
      "2. Remove product from cart\n",
      "3. View cart\n",
      "4. Checkout (calculate total cost)\n",
      "5. Exit\n"
     ]
    },
    {
     "name": "stdin",
     "output_type": "stream",
     "text": [
      "Enter your choice:  5\n"
     ]
    },
    {
     "name": "stdout",
     "output_type": "stream",
     "text": [
      "Exiting...\n"
     ]
    }
   ],
   "source": [
    "# Product information (using dictionary)\n",
    "products = {\n",
    "    1001: {\"name\": \"T-Shirt\", \"price\": 599, \"quantity\": 10},\n",
    "    1002: {\"name\": \"Hoodie\", \"price\": 1299, \"quantity\": 5},\n",
    "    1003: {\"name\": \"Jeans\", \"price\": 1099, \"quantity\": 20},\n",
    "    1004: {\"name\": \"Cap\", \"price\": 149, \"quantity\": 6},\n",
    "}\n",
    "print(\"Order from Catalog:\")\n",
    "print(products)\n",
    "\n",
    "# User cart (using dictionary)\n",
    "cart = {}\n",
    "\n",
    "# Functions for cart operations:\n",
    "def add_product_to_cart(product_id, quantity):\n",
    "    if product_id in products and products[product_id][\"quantity\"] >= quantity:\n",
    "        cart[product_id] = cart.get(product_id, 0) + quantity\n",
    "        products[product_id][\"quantity\"] -= quantity\n",
    "        return True\n",
    "    else:\n",
    "        print(\"Product out of stock or invalid quantity.\")\n",
    "        return False\n",
    "\n",
    "def remove_product_from_cart(product_id, quantity):\n",
    "    if product_id in cart and cart[product_id] >= quantity:\n",
    "        cart[product_id] -= quantity\n",
    "        products[product_id][\"quantity\"] += quantity\n",
    "        # Removing from cart\n",
    "        if cart[product_id] == 0:\n",
    "            del cart[product_id]\n",
    "        return True\n",
    "    else:\n",
    "        print(\"Product not in cart or insufficient quantity.\")\n",
    "        return False\n",
    "\n",
    "def view_cart():\n",
    "    if cart:\n",
    "        print(\"Items in Cart:\")\n",
    "        for product_id, quantity in cart.items():\n",
    "            product_info = products[product_id]\n",
    "            print(f\"- {product_info['name']} (x{quantity}) - Rs.{product_info['price']}\")\n",
    "    else:\n",
    "        print(\"Cart is empty.\")\n",
    "\n",
    "def calculate_total_cost():\n",
    "    total_cost = 0\n",
    "    for product_id, quantity in cart.items():\n",
    "        product_info = products[product_id]\n",
    "        total_cost += product_info[\"price\"] * quantity\n",
    "    return total_cost\n",
    "\n",
    "# User input\n",
    "\n",
    "while True:\n",
    "    print(\"\\nMenu:\")\n",
    "    print(\"1. Add product to cart\")\n",
    "    print(\"2. Remove product from cart\")\n",
    "    print(\"3. View cart\")\n",
    "    print(\"4. Checkout (calculate total cost)\")\n",
    "    print(\"5. Exit\")\n",
    "\n",
    "    choice = input(\"Enter your choice: \")\n",
    "\n",
    "    if choice == \"1\":\n",
    "        product_id = int(input(\"Enter product ID: \"))\n",
    "        quantity = int(input(\"Enter quantity: \"))\n",
    "        if add_product_to_cart(product_id, quantity):\n",
    "            print(\"Product added to cart successfully.\")\n",
    "        else:\n",
    "            print(\"Failed to add product.\")\n",
    "\n",
    "    elif choice == \"2\":\n",
    "        product_id = int(input(\"Enter product ID: \"))\n",
    "        quantity = int(input(\"Enter quantity: \"))\n",
    "        if remove_product_from_cart(product_id, quantity):\n",
    "            print(\"Product removed from cart successfully.\")\n",
    "        else:\n",
    "            print(\"Failed to remove product.\")\n",
    "\n",
    "    elif choice == \"3\":\n",
    "        view_cart()\n",
    "\n",
    "    elif choice == \"4\":\n",
    "        total_cost = calculate_total_cost()\n",
    "        print(f\"Total Cost: Rs.{total_cost}\") \n",
    "\n",
    "    elif choice == \"5\":\n",
    "        print(\"Exiting...\")\n",
    "        break\n",
    "\n",
    "    else:\n",
    "        print(\"Invalid choice. Please try again.\")\n"
   ]
  },
  {
   "cell_type": "code",
   "execution_count": null,
   "id": "8cf12dcb-3137-4e11-bdf8-843b667fb40f",
   "metadata": {},
   "outputs": [],
   "source": []
  }
 ],
 "metadata": {
  "kernelspec": {
   "display_name": "Python 3 (ipykernel)",
   "language": "python",
   "name": "python3"
  },
  "language_info": {
   "codemirror_mode": {
    "name": "ipython",
    "version": 3
   },
   "file_extension": ".py",
   "mimetype": "text/x-python",
   "name": "python",
   "nbconvert_exporter": "python",
   "pygments_lexer": "ipython3",
   "version": "3.11.5"
  }
 },
 "nbformat": 4,
 "nbformat_minor": 5
}
