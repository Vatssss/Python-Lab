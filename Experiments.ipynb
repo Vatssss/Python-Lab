{
 "cells": [
  {
   "cell_type": "code",
   "execution_count": 13,
   "id": "5d1ac497-57f8-4d24-9c5a-9be2819f6429",
   "metadata": {},
   "outputs": [
    {
     "name": "stdout",
     "output_type": "stream",
     "text": [
      "[1, 2, 3, 4, 5]\n",
      "\n",
      "Adding elements:\n",
      "[1, 2, 3, 4, 5, 'Hi']\n",
      "[1, 2, 3, 4, 5, 'Hi', 'apple']\n",
      "[1, 2, 3, 4, 5, 'Hi', 'apple', 6, 7, 8, 9]\n",
      "\n",
      "Removing elements:\n",
      "[1, 2, 4, 5, 'Hi', 'apple', 6, 7, 8, 9]\n",
      "\n",
      "Accessing elements by index:\n",
      "4\n",
      "[2, 4, 5, 'Hi']\n",
      "[1]\n",
      "['Hi', 'apple']\n",
      "\n",
      "Length of the list:\n",
      "10\n"
     ]
    }
   ],
   "source": [
    "# Experiment-7: Create a list of numbers and perform various operations such as adding elements,\n",
    "# removing elements, and accessing elements by index.\n",
    "li = [1,2,3,4,5]\n",
    "print(li)\n",
    "li2= [6,7,8,9]\n",
    "print(\"\\nAdding elements:\")\n",
    "li.insert(6,\"Hi\")\n",
    "print(li)\n",
    "li.append(\"apple\")\n",
    "print(li)\n",
    "li.extend(li2)\n",
    "print(li)\n",
    "print(\"\\nRemoving elements:\")\n",
    "del li[2]\n",
    "print(li)\n",
    "print(\"\\nAccessing elements by index:\")\n",
    "print(li[2])\n",
    "print(li[1:5])\n",
    "print(li[0:1])\n",
    "print(li[4:6])\n",
    "print(\"\\nLength of the list:\")\n",
    "print(len(li))"
   ]
  },
  {
   "cell_type": "code",
   "execution_count": 20,
   "id": "c8fff117-df18-4965-a5a7-bf20990f5ed4",
   "metadata": {},
   "outputs": [
    {
     "name": "stdout",
     "output_type": "stream",
     "text": [
      "('apple', 2, 4.0, 'x')\n",
      "('car', 7, True)\n",
      "\n",
      "Concatenation of two tuples:\n",
      "('apple', 2, 4.0, 'x', 'car', 7, True)\n",
      "\n",
      "Length of the tuple:\n",
      "7\n",
      "\n",
      "Accessing elements by index:\n",
      "4.0\n",
      "(4.0, 'x', 'car')\n",
      "\n",
      "Checking if \"bike\" is present in tuple:\n",
      "False\n"
     ]
    }
   ],
   "source": [
    "# Experiment-8: Create a tuple to represent an immutable collection and try accessing elements and\n",
    "# performing basic operations.\n",
    "tu = (\"apple\", 2, 4.0, 'x')\n",
    "print(tu)\n",
    "tu2 = (\"car\", 7, True)\n",
    "print(tu2)\n",
    "print(\"\\nConcatenation of two tuples:\")\n",
    "tu = tu + tu2\n",
    "print(tu)\n",
    "print(\"\\nLength of the tuple:\")\n",
    "print(len(tu))\n",
    "print(\"\\nAccessing elements by index:\")\n",
    "print(tu[2])\n",
    "print(tu[2:5])\n",
    "print(\"\\nChecking if \\\"bike\\\" is present in tuple:\")\n",
    "x = \"bike\" in tu\n",
    "print(x)"
   ]
  },
  {
   "cell_type": "code",
   "execution_count": 28,
   "id": "07056f7d-a0e9-4a14-9f5d-1820540d0b26",
   "metadata": {},
   "outputs": [
    {
     "name": "stdout",
     "output_type": "stream",
     "text": [
      "Set 1: {1, 2, 3, 4, 5}\n",
      "Set 2: {3, 4, 5, 6, 7}\n",
      "Union of sets: {1, 2, 3, 4, 5, 6, 7}\n",
      "Intersection of sets: {3, 4, 5}\n",
      "Difference between set1 and set2: {1, 2}\n",
      "Difference between set2 and set1: {6, 7}\n"
     ]
    }
   ],
   "source": [
    "# Experiment-9: Create a set to store unique elements and perform set operations such as union,\n",
    "# intersection, and difference.\n",
    "\n",
    "set1 = {1, 2, 3, 4, 5}\n",
    "set2 = {3, 4, 5, 6, 7}\n",
    "print(\"Set 1:\", set1)\n",
    "print(\"Set 2:\", set2)\n",
    "union_set = set1.union(set2)\n",
    "print(\"Union of sets:\", union_set)\n",
    "is_st = set1.intersection(set2)\n",
    "print(\"Intersection of sets:\", is_st)\n",
    "diff_set1 = set1.difference(set2)\n",
    "diff_set2 = set2.difference(set1)\n",
    "print(\"Difference between set1 and set2:\", diff_set1)\n",
    "print(\"Difference between set2 and set1:\", diff_set2)\n"
   ]
  },
  {
   "cell_type": "code",
   "execution_count": 27,
   "id": "7074b03c-bb9e-495f-8ad4-f1dfe346d324",
   "metadata": {},
   "outputs": [
    {
     "name": "stdout",
     "output_type": "stream",
     "text": [
      "{'name': 'Vatsal', 'age': 19, 'roll': 21051698, 'dob': '10/03/2004'}\n",
      "\n",
      "Modifying elements:\n",
      "{'name': 'Vatsal', 'age': 20, 'roll': 21051698, 'dob': '10/03/2004'}\n",
      "\n",
      "Accessing elements:\n",
      "Vatsal\n",
      "21051698\n",
      "\n",
      "Adding elements:\n",
      "{'name': 'Vatsal', 'age': 20, 'roll': 21051698, 'dob': '10/03/2004', 'college name': 'KIIT'}\n",
      "\n",
      "Removing elements:\n",
      "{'name': 'Vatsal', 'age': 20, 'roll': 21051698, 'college name': 'KIIT'}\n"
     ]
    }
   ],
   "source": [
    "# Experiment-10: Create a dictionary to represent key-value pairs and perform operations like adding,\n",
    "# updating, and accessing values.\n",
    "student = {\n",
    "    \"name\" : \"Vatsal\",\n",
    "    \"age\" : 19,\n",
    "    \"roll\" : 21051698,\n",
    "    \"dob\" : \"10/03/2004\"\n",
    "}\n",
    "print(student)\n",
    "print(\"\\nModifying elements:\")\n",
    "student[\"age\"] = 20\n",
    "print(student)\n",
    "print(\"\\nAccessing elements:\")\n",
    "print(student[\"name\"])\n",
    "print(student[\"roll\"])\n",
    "print(\"\\nAdding elements:\")\n",
    "student[\"college name\"] = \"KIIT\"\n",
    "print(student)\n",
    "print(\"\\nRemoving elements:\")\n",
    "student.pop(\"dob\")\n",
    "print(student)"
   ]
  }
 ],
 "metadata": {
  "kernelspec": {
   "display_name": "Python 3 (ipykernel)",
   "language": "python",
   "name": "python3"
  },
  "language_info": {
   "codemirror_mode": {
    "name": "ipython",
    "version": 3
   },
   "file_extension": ".py",
   "mimetype": "text/x-python",
   "name": "python",
   "nbconvert_exporter": "python",
   "pygments_lexer": "ipython3",
   "version": "3.11.5"
  }
 },
 "nbformat": 4,
 "nbformat_minor": 5
}
