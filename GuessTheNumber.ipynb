{
 "cells": [
  {
   "cell_type": "code",
   "execution_count": 4,
   "id": "7ffc6e46-d290-4e33-8945-0c35cc10245f",
   "metadata": {},
   "outputs": [
    {
     "name": "stdout",
     "output_type": "stream",
     "text": [
      "Welcome to the Number Game!\n"
     ]
    },
    {
     "name": "stdin",
     "output_type": "stream",
     "text": [
      "Guess a number between 0 to 10:  5\n"
     ]
    },
    {
     "name": "stdout",
     "output_type": "stream",
     "text": [
      "Too low\n"
     ]
    },
    {
     "name": "stdin",
     "output_type": "stream",
     "text": [
      "Guess a number between 0 to 10:  6\n"
     ]
    },
    {
     "name": "stdout",
     "output_type": "stream",
     "text": [
      "Too low\n"
     ]
    },
    {
     "name": "stdin",
     "output_type": "stream",
     "text": [
      "Guess a number between 0 to 10:  7\n"
     ]
    },
    {
     "name": "stdout",
     "output_type": "stream",
     "text": [
      "Too low\n"
     ]
    },
    {
     "name": "stdin",
     "output_type": "stream",
     "text": [
      "Guess a number between 0 to 10:  8\n"
     ]
    },
    {
     "name": "stdout",
     "output_type": "stream",
     "text": [
      "Congratulations, you've guessed the right number.\n"
     ]
    }
   ],
   "source": [
    "# Generate a Random Number:\n",
    "# Use the random module to generate a random number between a specified range. This will be the number the user needs to guess.\n",
    "# Use a while loop to repeatedly prompt the user for their guess until they correctly guess the number.\n",
    "# Use if..else statements to check if the user&#39;s guess is correct, too high, or too low. Provide appropriate feedback.\n",
    "# Introduce flow control statements like continue to skip certain parts of the loop or break to exit the loop when the correct guess is made.\n",
    "\n",
    "import random\n",
    "print(\"Welcome to the Number Game!\")\n",
    "lowerBound = 0\n",
    "upperBound = 10\n",
    "num = random.randint(lowerBound, upperBound)\n",
    "guesses = 0\n",
    "\n",
    "while True:\n",
    "    guess = int(input(\"Guess a number between 0 to 10: \"))\n",
    "    guesses = guesses + 1\n",
    "    if guess == num:\n",
    "        print(\"Congratulations, you've guessed the right number.\")\n",
    "        break\n",
    "    elif guess > num:\n",
    "        print(\"Too high\")\n",
    "    elif guess < num:\n",
    "        print(\"Too low\")        "
   ]
  },
  {
   "cell_type": "code",
   "execution_count": null,
   "id": "570ecc55-4023-4eb9-b706-5a8d67c026c9",
   "metadata": {},
   "outputs": [],
   "source": []
  }
 ],
 "metadata": {
  "kernelspec": {
   "display_name": "Python 3 (ipykernel)",
   "language": "python",
   "name": "python3"
  },
  "language_info": {
   "codemirror_mode": {
    "name": "ipython",
    "version": 3
   },
   "file_extension": ".py",
   "mimetype": "text/x-python",
   "name": "python",
   "nbconvert_exporter": "python",
   "pygments_lexer": "ipython3",
   "version": "3.11.5"
  }
 },
 "nbformat": 4,
 "nbformat_minor": 5
}
