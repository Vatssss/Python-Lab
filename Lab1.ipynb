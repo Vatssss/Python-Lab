{
 "cells": [
  {
   "cell_type": "code",
   "execution_count": 1,
   "id": "f33c1596",
   "metadata": {},
   "outputs": [
    {
     "name": "stdout",
     "output_type": "stream",
     "text": [
      "hello world\n"
     ]
    }
   ],
   "source": [
    "print(\"hello world\")"
   ]
  },
  {
   "cell_type": "code",
   "execution_count": 5,
   "id": "df2a9224",
   "metadata": {},
   "outputs": [
    {
     "name": "stdout",
     "output_type": "stream",
     "text": [
      "Vats\n",
      "<class 'str'>\n",
      "Addition of y and z is 15.2\n"
     ]
    }
   ],
   "source": [
    "#Addition of two numbers.\n",
    "x = \"Vats\"\n",
    "y = 10.0\n",
    "z = 5.2\n",
    "print(x)\n",
    "print(type(x))\n",
    "print(\"Addition of y and z is\",y+z)\n"
   ]
  },
  {
   "cell_type": "code",
   "execution_count": 8,
   "id": "23f847d7",
   "metadata": {},
   "outputs": [
    {
     "name": "stdout",
     "output_type": "stream",
     "text": [
      "Enter first number:10\n",
      "Enter second number:5\n",
      "10\n",
      "5\n",
      "15\n"
     ]
    }
   ],
   "source": [
    "#User input\n",
    "x = int(input(\"Enter first number:\"))\n",
    "y = int(input(\"Enter second number:\"))\n",
    "print(x)\n",
    "print(y)\n",
    "print(x+y)"
   ]
  },
  {
   "cell_type": "code",
   "execution_count": 10,
   "id": "6e713c86",
   "metadata": {},
   "outputs": [
    {
     "name": "stdout",
     "output_type": "stream",
     "text": [
      "Enter first number:5\n",
      "Enter second number:2\n",
      "5  is greater than  2\n"
     ]
    }
   ],
   "source": [
    "#Greater among two numbers\n",
    "x = int(input(\"Enter first number:\"))\n",
    "y = int(input(\"Enter second number:\"))\n",
    "if (x>y):\n",
    "    print(x,\" is greater than \", y)\n",
    "else:\n",
    "    print(y,\" is greater than \", x)"
   ]
  },
  {
   "cell_type": "code",
   "execution_count": 11,
   "id": "18e5d310",
   "metadata": {},
   "outputs": [
    {
     "name": "stdout",
     "output_type": "stream",
     "text": [
      "Enter a number to perform square:5\n",
      "The sqaure of above number is  25\n"
     ]
    }
   ],
   "source": [
    "#Square of a number\n",
    "x = int(input(\"Enter a number to perform square:\"))\n",
    "print(\"The sqaure of above number is \", x*x)"
   ]
  },
  {
   "cell_type": "code",
   "execution_count": 12,
   "id": "d1c6f113",
   "metadata": {},
   "outputs": [
    {
     "name": "stdout",
     "output_type": "stream",
     "text": [
      "Enter first number:2\n",
      "Enter second number:3\n",
      "The numbers are  2  and  3\n",
      "The numbers are  3  and  2\n"
     ]
    }
   ],
   "source": [
    "#Swap two numbers\n",
    "x = int(input(\"Enter first number:\"))\n",
    "y = int(input(\"Enter second number:\"))\n",
    "print(\"The numbers are \",x, \" and \", y)\n",
    "temp = x\n",
    "x = y\n",
    "y = temp\n",
    "print(\"The numbers are \",x, \" and \", y)"
   ]
  },
  {
   "cell_type": "code",
   "execution_count": 19,
   "id": "7714054d",
   "metadata": {},
   "outputs": [
    {
     "name": "stdout",
     "output_type": "stream",
     "text": [
      "Enter radius of a circle 5\n",
      "Area of circle is  78.5\n",
      "Enter sides of a sqaure 4\n",
      "Area of sqaure is  16\n",
      "Enter base of triangle 3\n",
      "Enter height of triangle 4\n",
      "Area of triangle is  6.0\n",
      "Enter length of rectangle 3\n",
      "Enter breadth of rectangle 5\n",
      "Area of rectangle is  15\n"
     ]
    }
   ],
   "source": [
    "#Area of square, circle, triangle and rectangle\n",
    "r = int(input(\"Enter radius of a circle \"))\n",
    "print(\"Area of circle is \", 3.14*r*r)\n",
    "\n",
    "s = int(input(\"Enter sides of a sqaure \"))\n",
    "print(\"Area of sqaure is \", s*s)\n",
    "\n",
    "b_tri = int(input(\"Enter base of triangle \"))\n",
    "h = int(input(\"Enter height of triangle \"))\n",
    "print(\"Area of triangle is \", 0.5*b_tri*h)\n",
    "\n",
    "l = int(input(\"Enter length of rectangle \"))\n",
    "b_rect = int(input(\"Enter breadth of rectangle \"))\n",
    "print(\"Area of rectangle is \", l*b_rect)"
   ]
  },
  {
   "cell_type": "code",
   "execution_count": 26,
   "id": "fff24244",
   "metadata": {},
   "outputs": [
    {
     "name": "stdout",
     "output_type": "stream",
     "text": [
      "Enter marks: 68\n",
      "Grade B\n"
     ]
    }
   ],
   "source": [
    "#Match-case for marks\n",
    "mark = int(input(\"Enter marks: \"))\n",
    "match mark:\n",
    "    case num if 90<= mark <100:\n",
    "        print(\"Grade O\")\n",
    "    case num if 80<= mark <90:\n",
    "        print(\"Grade E\")\n",
    "    case num if 70<= mark <80:\n",
    "        print(\"Grade A\")\n",
    "    case num if 60<= mark <70:\n",
    "        print(\"Grade B\")\n",
    "    case num if 50<= mark <60:\n",
    "        print(\"Grade C\")\n",
    "    case num if 40<= mark <50:\n",
    "        print(\"Grade D\")\n",
    "    case _:\n",
    "        print(\"FAIL\")"
   ]
  },
  {
   "cell_type": "code",
   "execution_count": null,
   "id": "1379ce18",
   "metadata": {},
   "outputs": [],
   "source": []
  },
  {
   "cell_type": "code",
   "execution_count": null,
   "id": "75d62338",
   "metadata": {},
   "outputs": [],
   "source": []
  },
  {
   "cell_type": "code",
   "execution_count": null,
   "id": "dda16281",
   "metadata": {},
   "outputs": [],
   "source": []
  }
 ],
 "metadata": {
  "kernelspec": {
   "display_name": "Python 3 (ipykernel)",
   "language": "python",
   "name": "python3"
  },
  "language_info": {
   "codemirror_mode": {
    "name": "ipython",
    "version": 3
   },
   "file_extension": ".py",
   "mimetype": "text/x-python",
   "name": "python",
   "nbconvert_exporter": "python",
   "pygments_lexer": "ipython3",
   "version": "3.11.5"
  }
 },
 "nbformat": 4,
 "nbformat_minor": 5
}
