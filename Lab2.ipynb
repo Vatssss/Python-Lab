{
 "cells": [
  {
   "cell_type": "code",
   "execution_count": 10,
   "id": "ebe07c41-408e-449e-8d0c-5a226b6c692b",
   "metadata": {},
   "outputs": [
    {
     "name": "stdout",
     "output_type": "stream",
     "text": [
      "My name is Vatsal and I am 20 years old.\n",
      "My roll number is 1698\n",
      "The name is of <class 'str'>\n",
      "The area is 100.48\n"
     ]
    }
   ],
   "source": [
    "# Declare variables with meaningful identifiers, assign values...\n",
    "# Add comments to your code to provide explanations and improve readability.\n",
    "\n",
    "name = \"Vatsal\" \n",
    "age = 20\n",
    "roll = 1698    #21051698\n",
    "print(\"My name is\",name,\"and I am\",age,\"years old.\")\n",
    "print(\"My roll number is\",roll)\n",
    "print(\"The name is of\",type(name))\n",
    "\n",
    "# Declaring constants\n",
    "PI = 3.14\n",
    "rad = 4\n",
    "area = 2 * PI * rad * rad\n",
    "print(\"The area is\",area)"
   ]
  },
  {
   "cell_type": "code",
   "execution_count": 12,
   "id": "8f270e79-d35a-4c5b-b4cf-98746cfa18a3",
   "metadata": {},
   "outputs": [
    {
     "name": "stdin",
     "output_type": "stream",
     "text": [
      "Enter your name Vats\n",
      "Enter value of x 4\n",
      "Enter value of x 5\n"
     ]
    },
    {
     "name": "stdout",
     "output_type": "stream",
     "text": [
      "Vats\n",
      "9\n"
     ]
    }
   ],
   "source": [
    "# Use the input() function to get user input and print() function for output.\n",
    "name = input(\"Enter your name\")\n",
    "x = int(input(\"Enter value of x\"))\n",
    "y = int(input(\"Enter value of x\"))\n",
    "print(name)\n",
    "print(x+y)"
   ]
  },
  {
   "cell_type": "code",
   "execution_count": 21,
   "id": "62a0c6d9-a346-4275-b346-0d9dbdf22ae6",
   "metadata": {},
   "outputs": [
    {
     "name": "stdout",
     "output_type": "stream",
     "text": [
      "21 <class 'int'>\n",
      "3.2 <class 'float'>\n",
      "True <class 'bool'>\n",
      "Hi this is Python <class 'str'>\n",
      "[21, 3.2, True, 'Hi this is Python'] <class 'list'>\n",
      "(3.2, 'Hi this is Python') <class 'tuple'>\n"
     ]
    }
   ],
   "source": [
    "# Explore different data types such as int, float, str, and bool.\n",
    "x = 21\n",
    "y = 3.2\n",
    "z = True\n",
    "n = \"Hi this is Python\"\n",
    "li = [x,y,z,n]\n",
    "tuple = (y,n)\n",
    "print(x, type(x))\n",
    "print(y, type(y))\n",
    "print(z, type(z))\n",
    "print(n, type(n))\n",
    "print(li, type(li))\n",
    "print(tuple, type(tuple))"
   ]
  },
  {
   "cell_type": "code",
   "execution_count": 19,
   "id": "7300298f-2a87-460b-9645-50e966d86be4",
   "metadata": {},
   "outputs": [
    {
     "name": "stdout",
     "output_type": "stream",
     "text": [
      "Sum: 14\n",
      "Difference: 6\n",
      "Product: 40\n",
      "Quotient: 2.5\n",
      "Remainder: 2\n",
      "Raised to power: 10000\n",
      "Floor division: 2\n",
      "\n",
      "\n",
      "Integer to float: 5.0\n",
      "Float to integer: 3\n"
     ]
    }
   ],
   "source": [
    "# Perform operations with numbers and explore type conversion.\n",
    "# Use operators (+, -, *, /, //, %, **) to create expressions.\n",
    "\n",
    "# Arithmetic operations:\n",
    "num1 = 10\n",
    "num2 = 4\n",
    "sum = num1 + num2  # Addition\n",
    "difference = num1 - num2  # Subtraction\n",
    "product = num1 * num2  # Multiplication\n",
    "quotient = num1 / num2  # Division \n",
    "remainder = num1 % num2  # Modulo \n",
    "power = num1 ** num2 # Raise to power\n",
    "floor = num1 // num2 # Floor division\n",
    "\n",
    "print(\"Sum:\", sum)\n",
    "print(\"Difference:\", difference)\n",
    "print(\"Product:\", product)\n",
    "print(\"Quotient:\", quotient)\n",
    "print(\"Remainder:\", remainder)\n",
    "print(\"Raised to power:\", power)\n",
    "print(\"Floor division:\", floor)\n",
    "\n",
    "\n",
    "# Type conversions:\n",
    "print(\"\\n\")\n",
    "# Converting an integer to a float:\n",
    "integer_value = 5\n",
    "float_value = float(integer_value)\n",
    "print(\"Integer to float:\", float_value)\n",
    "\n",
    "# Converting a float to an integer:\n",
    "float_value = 3.14\n",
    "integer_value = int(float_value)\n",
    "print(\"Float to integer:\", integer_value) "
   ]
  },
  {
   "cell_type": "code",
   "execution_count": 25,
   "id": "ff0b49c4-7aea-4715-a40f-c7908ae6ae0b",
   "metadata": {},
   "outputs": [
    {
     "name": "stdout",
     "output_type": "stream",
     "text": [
      "Hello\n",
      "World\n",
      "Hi\tUser\n",
      "It's a good day.\n",
      "He said, \"Good morning\"\n",
      "Path: C:\\User\\Desktop\n"
     ]
    }
   ],
   "source": [
    "# Escape characters.\n",
    "\n",
    "# \\n for new line\n",
    "print(\"Hello\\nWorld\")\n",
    "# \\t for tab\n",
    "print(\"Hi\\tUser\")\n",
    "# \\' for single quote\n",
    "print(\"It\\'s a good day.\")\n",
    "# \\\" for double quote\n",
    "print(\"He said, \\\"Good morning\\\"\")\n",
    "# \\\\ for backslash itself\n",
    "print(\"Path: C:\\\\User\\\\Desktop\")"
   ]
  },
  {
   "cell_type": "code",
   "execution_count": null,
   "id": "399fd267-6ed8-49ae-ae5d-0a2249415d8b",
   "metadata": {},
   "outputs": [],
   "source": []
  }
 ],
 "metadata": {
  "kernelspec": {
   "display_name": "Python 3 (ipykernel)",
   "language": "python",
   "name": "python3"
  },
  "language_info": {
   "codemirror_mode": {
    "name": "ipython",
    "version": 3
   },
   "file_extension": ".py",
   "mimetype": "text/x-python",
   "name": "python",
   "nbconvert_exporter": "python",
   "pygments_lexer": "ipython3",
   "version": "3.11.5"
  }
 },
 "nbformat": 4,
 "nbformat_minor": 5
}
