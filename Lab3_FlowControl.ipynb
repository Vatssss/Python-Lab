{
 "cells": [
  {
   "cell_type": "code",
   "execution_count": 23,
   "id": "6331f20d-4f2d-408a-b53a-9322e2bb15ed",
   "metadata": {},
   "outputs": [
    {
     "name": "stdin",
     "output_type": "stream",
     "text": [
      "Enter value for x-  5\n",
      "Enter value for y-  10\n"
     ]
    },
    {
     "name": "stdout",
     "output_type": "stream",
     "text": [
      "y is greater than x\n"
     ]
    }
   ],
   "source": [
    "# Branching: if else\n",
    "x = int(input(\"Enter value for x- \"))\n",
    "y = int(input(\"Enter value for y- \"))\n",
    "if x>y:\n",
    "    print(\"x is greater than y\")\n",
    "else:\n",
    "    print(\"y is greater than x\")"
   ]
  },
  {
   "cell_type": "code",
   "execution_count": 24,
   "id": "fd8e1939-32e4-4796-be29-0ea7883b2e23",
   "metadata": {},
   "outputs": [
    {
     "name": "stdin",
     "output_type": "stream",
     "text": [
      "Enter value for x-  8\n"
     ]
    },
    {
     "name": "stdout",
     "output_type": "stream",
     "text": [
      "x is greater than 5\n"
     ]
    }
   ],
   "source": [
    "# Branching: if else\n",
    "x = int(input(\"Enter value for x- \"))\n",
    "if x>5:\n",
    "    print(\"x is greater than 5\")"
   ]
  },
  {
   "cell_type": "code",
   "execution_count": 25,
   "id": "68a6a8b9-e6a6-4fdd-8231-026ff67e5478",
   "metadata": {},
   "outputs": [
    {
     "name": "stdout",
     "output_type": "stream",
     "text": [
      "0\n",
      "1\n",
      "2\n",
      "3\n",
      "4\n"
     ]
    }
   ],
   "source": [
    "# Looping: while\n",
    "count = 0\n",
    "while count<5:\n",
    "    print(count)\n",
    "    count += 1"
   ]
  },
  {
   "cell_type": "code",
   "execution_count": 26,
   "id": "0cb52aa7-96ed-404f-8ec9-aafabb364969",
   "metadata": {},
   "outputs": [
    {
     "name": "stdin",
     "output_type": "stream",
     "text": [
      "Enter n-  10\n"
     ]
    },
    {
     "name": "stdout",
     "output_type": "stream",
     "text": [
      "Sum of n numbers is 55\n"
     ]
    }
   ],
   "source": [
    "# Looping: for\n",
    "n = int(input(\"Enter n- \"))\n",
    "sum = 0\n",
    "for i in range(0,n+1):\n",
    "    sum += i\n",
    "print(\"Sum of n numbers is\",sum)"
   ]
  },
  {
   "cell_type": "code",
   "execution_count": 27,
   "id": "3e7308c6-d3e0-4ced-8b7c-5506487a072e",
   "metadata": {},
   "outputs": [
    {
     "name": "stdout",
     "output_type": "stream",
     "text": [
      "apple\n",
      "banana\n",
      "orange\n",
      "mango\n"
     ]
    }
   ],
   "source": [
    "# Looping: for\n",
    "fruits=[\"apple\", \"banana\", \"orange\", \"mango\"]\n",
    "for i in fruits:\n",
    "    print(i)"
   ]
  },
  {
   "cell_type": "code",
   "execution_count": 28,
   "id": "6a2e961b-4774-4b60-9ed6-36f7d378e15e",
   "metadata": {},
   "outputs": [
    {
     "name": "stdout",
     "output_type": "stream",
     "text": [
      "0\n",
      "1\n",
      "2\n",
      "3\n",
      "4\n",
      "5\n",
      "6\n"
     ]
    }
   ],
   "source": [
    "# Break statement\n",
    "list = [0,1,2,3,4,5,6,7,8,9,10]\n",
    "for i in list:\n",
    "    print(i)\n",
    "    if i == 6:\n",
    "        break\n",
    "# break statement exits the loop when condition is matched"
   ]
  },
  {
   "cell_type": "code",
   "execution_count": 29,
   "id": "9cd2aff6-e1af-4f4c-b3fe-3d5c734f818c",
   "metadata": {},
   "outputs": [
    {
     "name": "stdout",
     "output_type": "stream",
     "text": [
      "1\n",
      "3\n",
      "5\n",
      "7\n",
      "9\n"
     ]
    }
   ],
   "source": [
    "# Continue statement\n",
    "for i in range(10):\n",
    "    if i%2 == 0:\n",
    "        continue\n",
    "    print(i)\n",
    "# continue statement here skips the even numbers as per the conditions"
   ]
  },
  {
   "cell_type": "code",
   "execution_count": 32,
   "id": "dd401f56-b6e6-4f1a-9ed7-ec5c6b6aa097",
   "metadata": {},
   "outputs": [
    {
     "name": "stdin",
     "output_type": "stream",
     "text": [
      "Enter x:  0\n"
     ]
    }
   ],
   "source": [
    "# Pass statement\n",
    "x = int(input(\"Enter x: \"))\n",
    "if x<=0:\n",
    "    pass\n",
    "else:\n",
    "    print(\"Positive number\")\n",
    "# pass statement does nothing if the condition is matched\n",
    "# On entering 0 or number below 0, no output due to the pass statement."
   ]
  },
  {
   "cell_type": "code",
   "execution_count": 34,
   "id": "55a23ecd-dd8e-4fdc-95a1-88024ab1d2d7",
   "metadata": {},
   "outputs": [
    {
     "name": "stdout",
     "output_type": "stream",
     "text": [
      "1\n",
      "2\n",
      "3\n",
      "4\n",
      "5\n",
      "6\n",
      "7\n",
      "8\n",
      "9\n",
      "10\n"
     ]
    }
   ],
   "source": [
    "# Example 1: Print the first 10 natural numbers using for loop.\n",
    "for i in range(1,11):\n",
    "    print(i)"
   ]
  },
  {
   "cell_type": "code",
   "execution_count": 37,
   "id": "bfdcc22b-9ff5-4962-8def-aa1b457efd49",
   "metadata": {},
   "outputs": [
    {
     "name": "stdin",
     "output_type": "stream",
     "text": [
      "Enter the range:  10\n"
     ]
    },
    {
     "name": "stdout",
     "output_type": "stream",
     "text": [
      "0\n",
      "2\n",
      "4\n",
      "6\n",
      "8\n"
     ]
    }
   ],
   "source": [
    "# Example 2: Python program to print all the even numbers within the given range.\n",
    "n = int(input(\"Enter the range: \"))\n",
    "for i in range(n):\n",
    "    if i%2 != 0:\n",
    "        continue\n",
    "    print(i)"
   ]
  },
  {
   "cell_type": "code",
   "execution_count": 43,
   "id": "98f11aad-a671-4804-8c85-548e115ac5fe",
   "metadata": {},
   "outputs": [
    {
     "name": "stdin",
     "output_type": "stream",
     "text": [
      "Enter the number:  10\n"
     ]
    },
    {
     "name": "stdout",
     "output_type": "stream",
     "text": [
      "55\n"
     ]
    }
   ],
   "source": [
    "# Example 3: Python program to calculate the sum of all numbers from 1 to a given number.\n",
    "sum = 0\n",
    "n = int(input(\"Enter the number: \"))\n",
    "for i in range (1, n+1):\n",
    "    sum += i\n",
    "print(sum)"
   ]
  },
  {
   "cell_type": "code",
   "execution_count": 48,
   "id": "a76b7cf7-75f8-47d2-8fa8-f9abb7717642",
   "metadata": {},
   "outputs": [
    {
     "name": "stdout",
     "output_type": "stream",
     "text": [
      "Sum of all the odd numbers is: 25\n"
     ]
    }
   ],
   "source": [
    "# Example 4: Python program to calculate the sum of all the odd numbers within the given range.\n",
    "sum = 0\n",
    "for i in range (1, 10):\n",
    "    if i % 2 == 0:\n",
    "        pass     # skips the even numbers\n",
    "    else:\n",
    "        sum += i\n",
    "print(\"Sum of all the odd numbers is:\",sum)"
   ]
  },
  {
   "cell_type": "code",
   "execution_count": 50,
   "id": "15c1d83e-9020-41fc-9a4b-3916ac342ff4",
   "metadata": {},
   "outputs": [
    {
     "name": "stdin",
     "output_type": "stream",
     "text": [
      "Enter the number:  3\n"
     ]
    },
    {
     "name": "stdout",
     "output_type": "stream",
     "text": [
      "3 * 1 = 3\n",
      "3 * 2 = 6\n",
      "3 * 3 = 9\n",
      "3 * 4 = 12\n",
      "3 * 5 = 15\n",
      "3 * 6 = 18\n",
      "3 * 7 = 21\n",
      "3 * 8 = 24\n",
      "3 * 9 = 27\n",
      "3 * 10 = 30\n"
     ]
    }
   ],
   "source": [
    "# Example 5: Python program to print a multiplication table of a given number\n",
    "n = int(input(\"Enter the number: \"))\n",
    "for i in range(1, 11):\n",
    "    print(n,\"*\",i,\"=\",(n*i))"
   ]
  },
  {
   "cell_type": "code",
   "execution_count": 51,
   "id": "5e37666d-a122-4f0d-9f6d-2a2336749e37",
   "metadata": {},
   "outputs": [
    {
     "name": "stdout",
     "output_type": "stream",
     "text": [
      "1\n",
      "2\n",
      "3\n",
      "4\n",
      "5\n",
      "6\n",
      "7\n",
      "8\n",
      "9\n",
      "10\n"
     ]
    }
   ],
   "source": [
    "# Example 6: Python program to display numbers from a list using a for loop.\n",
    "list = [1,2,3,4,5,6,7,8,9,10]\n",
    "for i in list:\n",
    "    print(i)"
   ]
  },
  {
   "cell_type": "code",
   "execution_count": 57,
   "id": "17a9f0e3-c26b-4ad4-b0b8-951c3fd17e1f",
   "metadata": {},
   "outputs": [
    {
     "name": "stdin",
     "output_type": "stream",
     "text": [
      "Enter a number:  120923\n"
     ]
    },
    {
     "name": "stdout",
     "output_type": "stream",
     "text": [
      "6\n"
     ]
    }
   ],
   "source": [
    "# Example 7: Python program to count the total number of digits in a number.\n",
    "n = int(input(\"Enter a number: \"))\n",
    "count = 0\n",
    "while n != 0:\n",
    "    count+=1\n",
    "    n = n//10\n",
    "print(count)"
   ]
  },
  {
   "cell_type": "code",
   "execution_count": 71,
   "id": "e02ede8d-3690-4499-b8b6-051ea3452c8a",
   "metadata": {},
   "outputs": [
    {
     "name": "stdin",
     "output_type": "stream",
     "text": [
      "Enter string:  level\n"
     ]
    },
    {
     "name": "stdout",
     "output_type": "stream",
     "text": [
      "The string given is a palindrome\n"
     ]
    }
   ],
   "source": [
    "# Example 8: Python program to check if the given string is a palindrome.\n",
    "str = input(\"Enter string: \")\n",
    "rev = \"\"\n",
    "for char in str:\n",
    "    rev = char + rev\n",
    "if str == rev:\n",
    "    print(\"The string given is a palindrome\")\n",
    "else:\n",
    "    print(\"The string given is not a palindrome\")"
   ]
  },
  {
   "cell_type": "code",
   "execution_count": 72,
   "id": "23700cd6-222b-4d61-a440-39ee748f4b1c",
   "metadata": {},
   "outputs": [
    {
     "name": "stdin",
     "output_type": "stream",
     "text": [
      "Enter a word:  hello\n"
     ]
    },
    {
     "name": "stdout",
     "output_type": "stream",
     "text": [
      "olleh \n"
     ]
    }
   ],
   "source": [
    "# Example 9: Python program that accepts a word from the user and reverses it.\n",
    "n = input(\"Enter a word: \")\n",
    "rev = \" \"\n",
    "for char in n: \n",
    "    rev = char + rev\n",
    "print(rev)"
   ]
  },
  {
   "cell_type": "code",
   "execution_count": 104,
   "id": "cda2a5b9-a5dd-4fa0-a1e0-35ceaa00b516",
   "metadata": {},
   "outputs": [
    {
     "name": "stdin",
     "output_type": "stream",
     "text": [
      "Enter a number:  153\n"
     ]
    },
    {
     "name": "stdout",
     "output_type": "stream",
     "text": [
      "153 is an Armstrong number\n"
     ]
    }
   ],
   "source": [
    "# Example 10: Python program to check if a given number is an Armstrong number\n",
    "a = int(input(\"Enter a number: \"))\n",
    "sum = 0\n",
    "temp = a\n",
    "while temp > 0:\n",
    "   digit = temp % 10\n",
    "   sum += digit ** 3\n",
    "   temp //= 10\n",
    "if a == sum:\n",
    "   print(a,\"is an Armstrong number\")\n",
    "else:\n",
    "   print(a,\"is not an Armstrong number\")"
   ]
  },
  {
   "cell_type": "code",
   "execution_count": 81,
   "id": "9893d915-d888-4af6-bfe8-2ae944e8abba",
   "metadata": {},
   "outputs": [
    {
     "name": "stdout",
     "output_type": "stream",
     "text": [
      "Odd numbers are 10\n",
      "Even numbers are 10\n"
     ]
    }
   ],
   "source": [
    "# Example 11: Python program to count the number of even and odd numbers from a series of numbers.\n",
    "even = 0\n",
    "odd = 0\n",
    "for i in range(1,21):\n",
    "    if i % 2 == 0:\n",
    "        even += 1\n",
    "    else:\n",
    "        odd += 1\n",
    "print(\"Odd numbers are\", odd)\n",
    "print(\"Even numbers are\", even)"
   ]
  },
  {
   "cell_type": "code",
   "execution_count": 97,
   "id": "bbb3bf8a-7fc7-4d94-816b-ccb79fb37a79",
   "metadata": {},
   "outputs": [
    {
     "name": "stdout",
     "output_type": "stream",
     "text": [
      "Nonprime numbers between 1 to 20:\n",
      "4\n",
      "6\n",
      "8\n",
      "9\n",
      "10\n",
      "12\n",
      "14\n",
      "15\n",
      "16\n",
      "18\n"
     ]
    }
   ],
   "source": [
    "# Example 12: Python program to display all numbers within a range except the prime numbers.\n",
    "import math\n",
    "def is_not_prime(n):\n",
    "    ans = False\n",
    "    for i in range(2, int(math.sqrt(n)) + 1):\n",
    "        if n % i == 0:\n",
    "            ans = True\n",
    "    return ans\n",
    "print(\"Nonprime numbers between 1 to 20:\")\n",
    "for x in filter(is_not_prime, range(1, 20)):\n",
    "    print(x)"
   ]
  },
  {
   "cell_type": "code",
   "execution_count": 90,
   "id": "86ede547-d70f-4163-9716-078bdad433a4",
   "metadata": {},
   "outputs": [
    {
     "name": "stdout",
     "output_type": "stream",
     "text": [
      "1\n",
      "1\n",
      "2\n",
      "3\n",
      "5\n",
      "8\n",
      "13\n",
      "21\n",
      "34\n"
     ]
    }
   ],
   "source": [
    "# Example 13: Python program to get the Fibonacci series between 0 to 50.\n",
    "x, y = 0, 1\n",
    "while y < 50:\n",
    "    print(y)\n",
    "    x, y = y, x + y"
   ]
  },
  {
   "cell_type": "code",
   "execution_count": 93,
   "id": "e8e85b19-f1ab-4618-8baa-dd2c3c9ab14b",
   "metadata": {},
   "outputs": [
    {
     "name": "stdin",
     "output_type": "stream",
     "text": [
      "Enter a number: 5\n"
     ]
    },
    {
     "name": "stdout",
     "output_type": "stream",
     "text": [
      "120\n"
     ]
    }
   ],
   "source": [
    "# Example 14: Python program to find the factorial of a given number.\n",
    "result = 1\n",
    "n = int(input(\"Enter a number:\"))\n",
    "for i in range (1, n+1):\n",
    "    result *= i\n",
    "print(result)"
   ]
  },
  {
   "cell_type": "code",
   "execution_count": 94,
   "id": "656f38fb-3258-49b2-b118-08d0aecf7c5f",
   "metadata": {},
   "outputs": [
    {
     "name": "stdin",
     "output_type": "stream",
     "text": [
      "Enter a string:  32839ierhshf8372\n"
     ]
    },
    {
     "name": "stdout",
     "output_type": "stream",
     "text": [
      "Digits: 9\n",
      "Letters: 7\n"
     ]
    }
   ],
   "source": [
    "# Example 15: Python program that accepts a string and calculates the number of digits and letters.\n",
    "text = input(\"Enter a string: \")\n",
    "num_digits = 0\n",
    "num_letters = 0\n",
    "for char in text:\n",
    "  if char.isdigit():\n",
    "    num_digits += 1\n",
    "  elif char.isalpha():\n",
    "    num_letters += 1\n",
    "print(\"Digits:\", num_digits)\n",
    "print(\"Letters:\", num_letters)"
   ]
  },
  {
   "cell_type": "code",
   "execution_count": 95,
   "id": "972d7ca7-9f3b-4151-b6b5-393e9c09955d",
   "metadata": {},
   "outputs": [
    {
     "name": "stdout",
     "output_type": "stream",
     "text": [
      "1\n",
      "2\n",
      "3\n",
      "4\n",
      "5\n",
      "6\n",
      "7\n",
      "8\n",
      "9\n",
      "10\n",
      "11\n",
      "12\n",
      "13\n",
      "14\n",
      "15\n",
      "16\n",
      "17\n",
      "18\n",
      "19\n",
      "20\n",
      "21\n",
      "22\n",
      "23\n",
      "24\n",
      "25\n"
     ]
    }
   ],
   "source": [
    "# Example 16: Write a Python program that iterates the integers from 1 to 25.\n",
    "for i in range(1, 26):\n",
    "    print(i)"
   ]
  },
  {
   "cell_type": "code",
   "execution_count": 103,
   "id": "bca54350-464a-4e92-ae1e-744ee153e811",
   "metadata": {},
   "outputs": [
    {
     "name": "stdin",
     "output_type": "stream",
     "text": [
      "Enter password:  Vatsal@1233\n"
     ]
    },
    {
     "name": "stdout",
     "output_type": "stream",
     "text": [
      "Valid Password\n"
     ]
    }
   ],
   "source": [
    "# Example 17: Python program to check the validity of password input by users.\n",
    "lower, upper, special, digit = 0, 0, 0, 0\n",
    "s = input(\"Enter password: \")\n",
    "if (len(s) >= 8):\n",
    "\tfor i in s:\n",
    "\t\tif (i.islower()):\n",
    "\t\t\tlower+=1\t\t\n",
    "\t\tif (i.isupper()):\n",
    "\t\t\tupper+=1\t\t\n",
    "\t\tif (i.isdigit()):\n",
    "\t\t\tdigit+=1\t\t\n",
    "\t\tif(i=='@'or i=='$' or i=='_'):\n",
    "\t\t\tspecial+=1\t\t\n",
    "if (lower>=1 and upper>=1 and special>=1 and digit>=1 and lower+special+upper+digit==len(s)):\n",
    "\tprint(\"Valid Password\")\n",
    "else:\n",
    "\tprint(\"Invalid Password\")"
   ]
  },
  {
   "cell_type": "code",
   "execution_count": 102,
   "id": "cca5550f-3f11-4bb2-8ac4-79e836f0481b",
   "metadata": {},
   "outputs": [
    {
     "name": "stdout",
     "output_type": "stream",
     "text": [
      "List of months: January, February, March, April, May, June, July, August, September, October, November, December\n"
     ]
    },
    {
     "name": "stdin",
     "output_type": "stream",
     "text": [
      "Input the name of Month:  April\n"
     ]
    },
    {
     "name": "stdout",
     "output_type": "stream",
     "text": [
      "No. of days: 30 days\n"
     ]
    }
   ],
   "source": [
    "# Example 18: Python program to convert the month name to a number of days.\n",
    "print(\"List of months: January, February, March, April, May, June, July, August, September, October, November, December\")\n",
    "month_name = input(\"Input the name of Month: \")\n",
    "if month_name == \"February\":\n",
    "    print(\"No. of days: 28/29 days\") \n",
    "elif month_name in (\"April\", \"June\", \"September\", \"November\"):\n",
    "    print(\"No. of days: 30 days\")\n",
    "elif month_name in (\"January\", \"March\", \"May\", \"July\", \"August\", \"October\", \"December\"):\n",
    "    print(\"No. of days: 31 days\") \n",
    "else:\n",
    "    print(\"Wrong month name\")"
   ]
  }
 ],
 "metadata": {
  "kernelspec": {
   "display_name": "Python 3 (ipykernel)",
   "language": "python",
   "name": "python3"
  },
  "language_info": {
   "codemirror_mode": {
    "name": "ipython",
    "version": 3
   },
   "file_extension": ".py",
   "mimetype": "text/x-python",
   "name": "python",
   "nbconvert_exporter": "python",
   "pygments_lexer": "ipython3",
   "version": "3.11.5"
  }
 },
 "nbformat": 4,
 "nbformat_minor": 5
}
